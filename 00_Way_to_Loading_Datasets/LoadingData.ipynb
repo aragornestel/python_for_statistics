{
 "cells": [
  {
   "cell_type": "markdown",
   "id": "9a5b6faa9515beab",
   "metadata": {},
   "source": []
  },
  {
   "cell_type": "markdown",
   "id": "1843fb283d0f655d",
   "metadata": {},
   "source": [
    "# Loading Data in Python\n",
    "\n",
    "0. Manually loading a file\n",
    "1. Using np.loadtxt\n",
    "2. Using np.genfromtxt\n",
    "3. Using np.pd.read_csv\n",
    "4. Using pickle"
   ]
  },
  {
   "cell_type": "code",
   "execution_count": 2,
   "id": "be17ccd87cba0367",
   "metadata": {
    "ExecuteTime": {
     "end_time": "2025-02-09T13:17:18.939776Z",
     "start_time": "2025-02-09T13:17:18.297670Z"
    }
   },
   "outputs": [],
   "source": [
    "# Load Package\n",
    "import numpy as np\n",
    "import pandas as pd\n",
    "import pickle"
   ]
  },
  {
   "cell_type": "markdown",
   "id": "a76ef4718b1f71eb",
   "metadata": {},
   "source": [
    "## Manually loading a file"
   ]
  },
  {
   "cell_type": "code",
   "execution_count": 3,
   "id": "5156d7509834521e",
   "metadata": {
    "ExecuteTime": {
     "end_time": "2025-02-09T13:17:37.770628Z",
     "start_time": "2025-02-09T13:17:37.760715Z"
    }
   },
   "outputs": [],
   "source": [
    "filename = \"load.csv\""
   ]
  },
  {
   "cell_type": "code",
   "execution_count": 6,
   "id": "edba09049e39fcbe",
   "metadata": {
    "ExecuteTime": {
     "end_time": "2025-02-09T13:23:14.448002Z",
     "start_time": "2025-02-09T13:23:14.407215Z"
    }
   },
   "outputs": [
    {
     "name": "stdout",
     "output_type": "stream",
     "text": [
      "A    float64\n",
      "B    float64\n",
      "C    float64\n",
      "D    float64\n",
      "E    float64\n",
      "dtype: object\n"
     ]
    },
    {
     "data": {
      "text/html": [
       "<div>\n",
       "<style scoped>\n",
       "    .dataframe tbody tr th:only-of-type {\n",
       "        vertical-align: middle;\n",
       "    }\n",
       "\n",
       "    .dataframe tbody tr th {\n",
       "        vertical-align: top;\n",
       "    }\n",
       "\n",
       "    .dataframe thead th {\n",
       "        text-align: right;\n",
       "    }\n",
       "</style>\n",
       "<table border=\"1\" class=\"dataframe\">\n",
       "  <thead>\n",
       "    <tr style=\"text-align: right;\">\n",
       "      <th></th>\n",
       "      <th>A</th>\n",
       "      <th>B</th>\n",
       "      <th>C</th>\n",
       "      <th>D</th>\n",
       "      <th>E</th>\n",
       "    </tr>\n",
       "  </thead>\n",
       "  <tbody>\n",
       "    <tr>\n",
       "      <th>0</th>\n",
       "      <td>1.276</td>\n",
       "      <td>21.400</td>\n",
       "      <td>63.957</td>\n",
       "      <td>216.204</td>\n",
       "      <td>528.0</td>\n",
       "    </tr>\n",
       "    <tr>\n",
       "      <th>1</th>\n",
       "      <td>1.002</td>\n",
       "      <td>21.950</td>\n",
       "      <td>61.697</td>\n",
       "      <td>204.484</td>\n",
       "      <td>514.0</td>\n",
       "    </tr>\n",
       "    <tr>\n",
       "      <th>2</th>\n",
       "      <td>1.114</td>\n",
       "      <td>22.454</td>\n",
       "      <td>63.522</td>\n",
       "      <td>205.608</td>\n",
       "      <td>514.0</td>\n",
       "    </tr>\n",
       "    <tr>\n",
       "      <th>3</th>\n",
       "      <td>1.133</td>\n",
       "      <td>22.494</td>\n",
       "      <td>61.590</td>\n",
       "      <td>206.565</td>\n",
       "      <td>501.0</td>\n",
       "    </tr>\n",
       "    <tr>\n",
       "      <th>4</th>\n",
       "      <td>0.845</td>\n",
       "      <td>21.654</td>\n",
       "      <td>63.729</td>\n",
       "      <td>201.289</td>\n",
       "      <td>532.0</td>\n",
       "    </tr>\n",
       "  </tbody>\n",
       "</table>\n",
       "</div>"
      ],
      "text/plain": [
       "       A       B       C        D      E\n",
       "0  1.276  21.400  63.957  216.204  528.0\n",
       "1  1.002  21.950  61.697  204.484  514.0\n",
       "2  1.114  22.454  63.522  205.608  514.0\n",
       "3  1.133  22.494  61.590  206.565  501.0\n",
       "4  0.845  21.654  63.729  201.289  532.0"
      ]
     },
     "execution_count": 6,
     "metadata": {},
     "output_type": "execute_result"
    }
   ],
   "source": [
    "cols = None\n",
    "data = []\n",
    "with open(filename) as f:\n",
    "    for line in f.readlines():\n",
    "        vals = line.replace(\"\\n\",\"\").split(\",\")\n",
    "        if cols is None:\n",
    "            cols = vals\n",
    "        else:\n",
    "            data.append([float(x) for x in vals])\n",
    "\n",
    "d0 = pd.DataFrame(data, columns=cols)\n",
    "print(d0.dtypes)\n",
    "d0.head()"
   ]
  },
  {
   "cell_type": "markdown",
   "id": "e6b3a7e9b133e678",
   "metadata": {},
   "source": [
    "## np.loadtxt"
   ]
  },
  {
   "cell_type": "code",
   "execution_count": 9,
   "id": "3f009d6379c6896e",
   "metadata": {
    "ExecuteTime": {
     "end_time": "2025-02-09T13:26:16.949429Z",
     "start_time": "2025-02-09T13:26:16.929546Z"
    }
   },
   "outputs": [
    {
     "name": "stdout",
     "output_type": "stream",
     "text": [
      "float64\n",
      "[[  1.276  21.4    63.957 216.204 528.   ]\n",
      " [  1.002  21.95   61.697 204.484 514.   ]\n",
      " [  1.114  22.454  63.522 205.608 514.   ]\n",
      " [  1.133  22.494  61.59  206.565 501.   ]\n",
      " [  0.845  21.654  63.729 201.289 532.   ]]\n"
     ]
    }
   ],
   "source": [
    "d1 = np.loadtxt(\"load.csv\", skiprows=1, delimiter=\",\")\n",
    "print(d1.dtype)\n",
    "print(d1[:5,:])\n",
    "# 2차원 배열(array)"
   ]
  },
  {
   "cell_type": "markdown",
   "id": "3d1642f50039db8e",
   "metadata": {},
   "source": [
    "## np.genfromtxt"
   ]
  },
  {
   "cell_type": "code",
   "execution_count": 11,
   "id": "4fe0adefc6c72653",
   "metadata": {
    "ExecuteTime": {
     "end_time": "2025-02-09T13:27:59.225319Z",
     "start_time": "2025-02-09T13:27:59.204947Z"
    }
   },
   "outputs": [
    {
     "name": "stdout",
     "output_type": "stream",
     "text": [
      "[('A', '<f8'), ('B', '<f8'), ('C', '<f8'), ('D', '<f8'), ('E', '<i8')]\n",
      "[(1.276, 21.4  , 63.957, 216.204, 528)\n",
      " (1.002, 21.95 , 61.697, 204.484, 514)\n",
      " (1.114, 22.454, 63.522, 205.608, 514)\n",
      " (1.133, 22.494, 61.59 , 206.565, 501)\n",
      " (0.845, 21.654, 63.729, 201.289, 532)]\n"
     ]
    }
   ],
   "source": [
    "d2 = np.genfromtxt(\"load.csv\", delimiter=\",\", names=True, dtype=None)\n",
    "print(d2.dtype)\n",
    "print(d2[:5])"
   ]
  },
  {
   "cell_type": "markdown",
   "id": "8b824530b08e35af",
   "metadata": {},
   "source": [
    "## pd.read_csv"
   ]
  },
  {
   "cell_type": "code",
   "execution_count": 12,
   "id": "d1a8ddb6a6548437",
   "metadata": {
    "ExecuteTime": {
     "end_time": "2025-02-09T13:28:51.578696Z",
     "start_time": "2025-02-09T13:28:51.547362Z"
    }
   },
   "outputs": [
    {
     "name": "stdout",
     "output_type": "stream",
     "text": [
      "A    float64\n",
      "B    float64\n",
      "C    float64\n",
      "D    float64\n",
      "E      int64\n",
      "dtype: object\n"
     ]
    },
    {
     "data": {
      "text/html": [
       "<div>\n",
       "<style scoped>\n",
       "    .dataframe tbody tr th:only-of-type {\n",
       "        vertical-align: middle;\n",
       "    }\n",
       "\n",
       "    .dataframe tbody tr th {\n",
       "        vertical-align: top;\n",
       "    }\n",
       "\n",
       "    .dataframe thead th {\n",
       "        text-align: right;\n",
       "    }\n",
       "</style>\n",
       "<table border=\"1\" class=\"dataframe\">\n",
       "  <thead>\n",
       "    <tr style=\"text-align: right;\">\n",
       "      <th></th>\n",
       "      <th>A</th>\n",
       "      <th>B</th>\n",
       "      <th>C</th>\n",
       "      <th>D</th>\n",
       "      <th>E</th>\n",
       "    </tr>\n",
       "  </thead>\n",
       "  <tbody>\n",
       "    <tr>\n",
       "      <th>0</th>\n",
       "      <td>1.276</td>\n",
       "      <td>21.400</td>\n",
       "      <td>63.957</td>\n",
       "      <td>216.204</td>\n",
       "      <td>528</td>\n",
       "    </tr>\n",
       "    <tr>\n",
       "      <th>1</th>\n",
       "      <td>1.002</td>\n",
       "      <td>21.950</td>\n",
       "      <td>61.697</td>\n",
       "      <td>204.484</td>\n",
       "      <td>514</td>\n",
       "    </tr>\n",
       "    <tr>\n",
       "      <th>2</th>\n",
       "      <td>1.114</td>\n",
       "      <td>22.454</td>\n",
       "      <td>63.522</td>\n",
       "      <td>205.608</td>\n",
       "      <td>514</td>\n",
       "    </tr>\n",
       "    <tr>\n",
       "      <th>3</th>\n",
       "      <td>1.133</td>\n",
       "      <td>22.494</td>\n",
       "      <td>61.590</td>\n",
       "      <td>206.565</td>\n",
       "      <td>501</td>\n",
       "    </tr>\n",
       "    <tr>\n",
       "      <th>4</th>\n",
       "      <td>0.845</td>\n",
       "      <td>21.654</td>\n",
       "      <td>63.729</td>\n",
       "      <td>201.289</td>\n",
       "      <td>532</td>\n",
       "    </tr>\n",
       "  </tbody>\n",
       "</table>\n",
       "</div>"
      ],
      "text/plain": [
       "       A       B       C        D    E\n",
       "0  1.276  21.400  63.957  216.204  528\n",
       "1  1.002  21.950  61.697  204.484  514\n",
       "2  1.114  22.454  63.522  205.608  514\n",
       "3  1.133  22.494  61.590  206.565  501\n",
       "4  0.845  21.654  63.729  201.289  532"
      ]
     },
     "execution_count": 12,
     "metadata": {},
     "output_type": "execute_result"
    }
   ],
   "source": [
    "d3 = pd.read_csv(filename)\n",
    "print(d3.dtypes)\n",
    "d3.head()"
   ]
  },
  {
   "cell_type": "markdown",
   "id": "b02c0a64d31326ea",
   "metadata": {},
   "source": [
    "## pickle"
   ]
  },
  {
   "cell_type": "markdown",
   "id": "781efc25a0d7473b",
   "metadata": {},
   "source": [
    "### Pickle이란 무엇인가?\n",
    "Pickle은 Python에서 객체를 직렬화(Serialization)하거나 역직렬화(Deserialization)하여 파일로 저장하거나 다시 불러오는 데 사용하는 표준 라이브러리입니다. 직렬화는 Python 객체를 바이트 스트림으로 변환하는 과정이며, 역직렬화는 이를 다시 Python 객체로 복원하는 과정입니다.\n",
    "\n",
    "### Pickle의 주요 특징\n",
    "1. 객체 저장 및 복원: Python의 거의 모든 데이터 구조(예: 리스트, 딕셔너리, 클래스 인스턴스 등)를 변환 없이 그대로 저장하고 복원할 수 있습니다.\n",
    "2. 바이너리 형식: 데이터를 바이너리 형태로 저장하므로 텍스트 파일보다 읽기 및 쓰기 속도가 빠릅니다.\n",
    "3. Python 전용: Pickle은 Python에서만 사용 가능하며 다른 언어와의 호환성은 없습니다.\n",
    "\n",
    "### Pickle의 장점\n",
    "- 유연성: Python 객체를 그대로 저장하고 복원할 수 있어 JSON이나 CSV로 표현하기 어려운 구조도 처리 가능합니다.\n",
    "- 속도: 데이터를 바이너리로 저장하기 때문에 텍스트 기반 형식보다 읽기/쓰기 속도가 빠릅니다.\n",
    "- 간단한 사용법: Python 표준 라이브러리에 포함되어 추가 설치가 필요 없으며, 직관적인 API를 제공합니다."
   ]
  },
  {
   "cell_type": "code",
   "execution_count": 15,
   "id": "33876d0d08643eba",
   "metadata": {
    "ExecuteTime": {
     "end_time": "2025-02-09T13:30:56.889509Z",
     "start_time": "2025-02-09T13:30:56.858291Z"
    }
   },
   "outputs": [
    {
     "name": "stdout",
     "output_type": "stream",
     "text": [
      "A    float64\n",
      "B    float64\n",
      "C    float64\n",
      "D    float64\n",
      "E      int32\n",
      "dtype: object\n"
     ]
    },
    {
     "data": {
      "text/html": [
       "<div>\n",
       "<style scoped>\n",
       "    .dataframe tbody tr th:only-of-type {\n",
       "        vertical-align: middle;\n",
       "    }\n",
       "\n",
       "    .dataframe tbody tr th {\n",
       "        vertical-align: top;\n",
       "    }\n",
       "\n",
       "    .dataframe thead th {\n",
       "        text-align: right;\n",
       "    }\n",
       "</style>\n",
       "<table border=\"1\" class=\"dataframe\">\n",
       "  <thead>\n",
       "    <tr style=\"text-align: right;\">\n",
       "      <th></th>\n",
       "      <th>A</th>\n",
       "      <th>B</th>\n",
       "      <th>C</th>\n",
       "      <th>D</th>\n",
       "      <th>E</th>\n",
       "    </tr>\n",
       "  </thead>\n",
       "  <tbody>\n",
       "    <tr>\n",
       "      <th>0</th>\n",
       "      <td>1.276405</td>\n",
       "      <td>21.400157</td>\n",
       "      <td>63.957476</td>\n",
       "      <td>216.204466</td>\n",
       "      <td>528</td>\n",
       "    </tr>\n",
       "    <tr>\n",
       "      <th>1</th>\n",
       "      <td>1.002272</td>\n",
       "      <td>21.950088</td>\n",
       "      <td>61.697286</td>\n",
       "      <td>204.483906</td>\n",
       "      <td>514</td>\n",
       "    </tr>\n",
       "    <tr>\n",
       "      <th>2</th>\n",
       "      <td>1.114404</td>\n",
       "      <td>22.454274</td>\n",
       "      <td>63.522075</td>\n",
       "      <td>205.608375</td>\n",
       "      <td>514</td>\n",
       "    </tr>\n",
       "    <tr>\n",
       "      <th>3</th>\n",
       "      <td>1.133367</td>\n",
       "      <td>22.494079</td>\n",
       "      <td>61.589683</td>\n",
       "      <td>206.565339</td>\n",
       "      <td>501</td>\n",
       "    </tr>\n",
       "    <tr>\n",
       "      <th>4</th>\n",
       "      <td>0.844701</td>\n",
       "      <td>21.653619</td>\n",
       "      <td>63.728872</td>\n",
       "      <td>201.289175</td>\n",
       "      <td>532</td>\n",
       "    </tr>\n",
       "  </tbody>\n",
       "</table>\n",
       "</div>"
      ],
      "text/plain": [
       "          A          B          C           D    E\n",
       "0  1.276405  21.400157  63.957476  216.204466  528\n",
       "1  1.002272  21.950088  61.697286  204.483906  514\n",
       "2  1.114404  22.454274  63.522075  205.608375  514\n",
       "3  1.133367  22.494079  61.589683  206.565339  501\n",
       "4  0.844701  21.653619  63.728872  201.289175  532"
      ]
     },
     "execution_count": 15,
     "metadata": {},
     "output_type": "execute_result"
    }
   ],
   "source": [
    "with open(\"load_pickle.pickle\", \"rb\") as f:\n",
    "    d4 = pickle.load(f)\n",
    "print(d4.dtypes)\n",
    "d4.head()"
   ]
  }
 ],
 "metadata": {
  "kernelspec": {
   "display_name": "base",
   "language": "python",
   "name": "python3"
  },
  "language_info": {
   "codemirror_mode": {
    "name": "ipython",
    "version": 2
   },
   "file_extension": ".py",
   "mimetype": "text/x-python",
   "name": "python",
   "nbconvert_exporter": "python",
   "pygments_lexer": "ipython2",
   "version": "3.12.7"
  }
 },
 "nbformat": 4,
 "nbformat_minor": 5
}
